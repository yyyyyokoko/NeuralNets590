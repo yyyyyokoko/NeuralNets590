{
  "nbformat": 4,
  "nbformat_minor": 0,
  "metadata": {
    "kernelspec": {
      "display_name": "Python 3",
      "language": "python",
      "name": "python3"
    },
    "language_info": {
      "codemirror_mode": {
        "name": "ipython",
        "version": 3
      },
      "file_extension": ".py",
      "mimetype": "text/x-python",
      "name": "python",
      "nbconvert_exporter": "python",
      "pygments_lexer": "ipython3",
      "version": "3.7.4"
    },
    "colab": {
      "name": "hw3_ll1038.ipynb",
      "provenance": [],
      "collapsed_sections": [],
      "include_colab_link": true
    },
    "accelerator": "GPU"
  },
  "cells": [
    {
      "cell_type": "markdown",
      "metadata": {
        "id": "view-in-github",
        "colab_type": "text"
      },
      "source": [
        "<a href=\"https://colab.research.google.com/github/yyyyyokoko/NeuralNets590/blob/master/homework/hw3_ll1038.ipynb\" target=\"_parent\"><img src=\"https://colab.research.google.com/assets/colab-badge.svg\" alt=\"Open In Colab\"/></a>"
      ]
    },
    {
      "cell_type": "markdown",
      "metadata": {
        "id": "x6TU9paDsac5"
      },
      "source": [
        "### ANLY 590 Assignment 3\n",
        "Luwei Lei\n",
        "\n",
        "ll1038"
      ]
    },
    {
      "cell_type": "markdown",
      "metadata": {
        "id": "RXzGba_rsac6"
      },
      "source": [
        "### 1. Autoencoder\n",
        "\n",
        "Build and fit a convolutional autoencoder for the CIFAR10 dataset.\n",
        "The components of this network will be many of the same pieces we’ve used with convolutional classification networks: Conv2D, MaxPooling, and so on. The encoder part of the network should run the input image through a few convolutional layers of your choice. The decoder part of the network will uti- lize UpSampling2D to get the representation back to the original image size.\n"
      ]
    },
    {
      "cell_type": "code",
      "metadata": {
        "id": "V0quCZuBsac6"
      },
      "source": [
        "import numpy as np\n",
        "import pandas as pd\n",
        "import matplotlib.pyplot as plt\n",
        "\n",
        "import tensorflow as tf\n",
        "import tensorflow.keras as tfk\n",
        "\n",
        "from keras.utils import to_categorical\n",
        "from keras.datasets import cifar10\n",
        "from keras.layers import Input, Dense, Flatten, Dropout, Conv2D, MaxPooling2D, LeakyReLU, LSTM, UpSampling2D\n",
        "from keras.models import Model, Sequential\n",
        "import tensorflow.keras.layers as tfkl\n",
        "from keras.layers.convolutional import Conv1D\n",
        "from keras.layers import SpatialDropout1D, MaxPool1D\n",
        "from keras.optimizers import Adam\n",
        "\n",
        "from keras.preprocessing.text import Tokenizer\n",
        "from string import printable\n",
        "from keras.preprocessing import sequence\n",
        "from keras.preprocessing.sequence import pad_sequences\n",
        "from sklearn.model_selection import train_test_split\n",
        "from keras import regularizers\n"
      ],
      "execution_count": 44,
      "outputs": []
    },
    {
      "cell_type": "code",
      "metadata": {
        "id": "IbUb0YXmsac6",
        "outputId": "599e8c84-8e73-4afb-9a81-3a24d697576a"
      },
      "source": [
        "(x_train, y_train), (x_test, y_test) = cifar10.load_data()\n",
        "\n",
        "x_train = x_train.astype('float32') / 255.\n",
        "x_test = x_test.astype('float32') / 255.\n",
        "\n",
        "print(\"Shape of training data X is \", x_train.shape)\n",
        "print(\"Shape of training data y is \", y_train.shape)\n",
        "\n",
        "print(\"Shape of testing data X is \", x_test.shape)\n",
        "print(\"Shape of testing data y is \", y_test.shape)"
      ],
      "execution_count": null,
      "outputs": [
        {
          "output_type": "stream",
          "text": [
            "Shape of training data X is  (50000, 32, 32, 3)\n",
            "Shape of training data y is  (50000, 1)\n",
            "Shape of testing data X is  (10000, 32, 32, 3)\n",
            "Shape of testing data y is  (10000, 1)\n"
          ],
          "name": "stdout"
        }
      ]
    },
    {
      "cell_type": "code",
      "metadata": {
        "id": "vTIVaVK_sac7",
        "outputId": "4220e343-83a2-44be-e3e9-389491fec7fa"
      },
      "source": [
        "#input shape\n",
        "input_img = Input(shape=(32, 32, 3)) \n",
        "\n",
        "x = Conv2D(filters=32, kernel_size=(3,3),padding=\"same\", activation='relu')(input_img)\n",
        "x = MaxPooling2D((2, 2), padding='same')(x)\n",
        "x = Conv2D(8, kernel_size = (3, 3), activation='relu', padding='same')(x)\n",
        "x = MaxPooling2D((2, 2), padding='same')(x)\n",
        "x = Conv2D(8, kernel_size = (3, 3), activation='relu', padding='same')(x)\n",
        "encoded = MaxPooling2D((2, 2), padding='same')(x)\n",
        "\n",
        "\n",
        "x = Conv2D(8, kernel_size =  (3, 3), activation='relu', padding='same')(encoded)\n",
        "x = UpSampling2D((2, 2))(x)\n",
        "x = Conv2D(8, kernel_size = (3, 3), activation='relu', padding='same')(x)\n",
        "x = UpSampling2D((2, 2))(x)\n",
        "x = Conv2D(32, kernel_size = (3, 3), activation='relu',padding='same')(x)\n",
        "x = UpSampling2D((2, 2))(x)\n",
        "\n",
        "decoded = Conv2D(3, kernel_size = (3, 3), activation='relu', padding='same')(x)\n",
        "\n",
        "\n",
        "autoencoder = Model(input_img, decoded)\n",
        "autoencoder.compile(optimizer='adam', metrics=['accuracy'], loss='mean_squared_error')\n",
        "\n",
        "autoencoder.summary()"
      ],
      "execution_count": null,
      "outputs": [
        {
          "output_type": "stream",
          "text": [
            "Model: \"functional_11\"\n",
            "_________________________________________________________________\n",
            "Layer (type)                 Output Shape              Param #   \n",
            "=================================================================\n",
            "input_6 (InputLayer)         [(None, 32, 32, 3)]       0         \n",
            "_________________________________________________________________\n",
            "conv2d_30 (Conv2D)           (None, 32, 32, 32)        896       \n",
            "_________________________________________________________________\n",
            "max_pooling2d_15 (MaxPooling (None, 16, 16, 32)        0         \n",
            "_________________________________________________________________\n",
            "conv2d_31 (Conv2D)           (None, 16, 16, 8)         2312      \n",
            "_________________________________________________________________\n",
            "max_pooling2d_16 (MaxPooling (None, 8, 8, 8)           0         \n",
            "_________________________________________________________________\n",
            "conv2d_32 (Conv2D)           (None, 8, 8, 8)           584       \n",
            "_________________________________________________________________\n",
            "max_pooling2d_17 (MaxPooling (None, 4, 4, 8)           0         \n",
            "_________________________________________________________________\n",
            "conv2d_33 (Conv2D)           (None, 4, 4, 8)           584       \n",
            "_________________________________________________________________\n",
            "up_sampling2d_10 (UpSampling (None, 8, 8, 8)           0         \n",
            "_________________________________________________________________\n",
            "conv2d_34 (Conv2D)           (None, 8, 8, 8)           584       \n",
            "_________________________________________________________________\n",
            "up_sampling2d_11 (UpSampling (None, 16, 16, 8)         0         \n",
            "_________________________________________________________________\n",
            "conv2d_35 (Conv2D)           (None, 16, 16, 32)        2336      \n",
            "_________________________________________________________________\n",
            "up_sampling2d_12 (UpSampling (None, 32, 32, 32)        0         \n",
            "_________________________________________________________________\n",
            "conv2d_36 (Conv2D)           (None, 32, 32, 3)         867       \n",
            "=================================================================\n",
            "Total params: 8,163\n",
            "Trainable params: 8,163\n",
            "Non-trainable params: 0\n",
            "_________________________________________________________________\n"
          ],
          "name": "stdout"
        }
      ]
    },
    {
      "cell_type": "code",
      "metadata": {
        "id": "O_kzHyTvsac7",
        "outputId": "74cfc0b9-6d40-4951-fe35-54b7735d088e"
      },
      "source": [
        "result_auto = autoencoder.fit(x_train, x_train,\n",
        "                epochs=20,\n",
        "                batch_size=128,\n",
        "                shuffle=True,\n",
        "                validation_data=(x_test, x_test))"
      ],
      "execution_count": null,
      "outputs": [
        {
          "output_type": "stream",
          "text": [
            "Epoch 1/20\n",
            "391/391 [==============================] - 73s 187ms/step - loss: 0.0343 - accuracy: 0.4125 - val_loss: 0.0209 - val_accuracy: 0.4331\n",
            "Epoch 2/20\n",
            "391/391 [==============================] - 59s 150ms/step - loss: 0.0182 - accuracy: 0.5491 - val_loss: 0.0167 - val_accuracy: 0.5905\n",
            "Epoch 3/20\n",
            "391/391 [==============================] - 56s 142ms/step - loss: 0.0159 - accuracy: 0.6099 - val_loss: 0.0153 - val_accuracy: 0.6132\n",
            "Epoch 4/20\n",
            "391/391 [==============================] - 58s 149ms/step - loss: 0.0149 - accuracy: 0.6276 - val_loss: 0.0145 - val_accuracy: 0.6346\n",
            "Epoch 5/20\n",
            "391/391 [==============================] - 53s 135ms/step - loss: 0.0142 - accuracy: 0.6534 - val_loss: 0.0138 - val_accuracy: 0.6742\n",
            "Epoch 6/20\n",
            "391/391 [==============================] - 54s 138ms/step - loss: 0.0137 - accuracy: 0.6697 - val_loss: 0.0134 - val_accuracy: 0.6810\n",
            "Epoch 7/20\n",
            "391/391 [==============================] - 52s 133ms/step - loss: 0.0133 - accuracy: 0.6785 - val_loss: 0.0131 - val_accuracy: 0.6845\n",
            "Epoch 8/20\n",
            "391/391 [==============================] - 55s 141ms/step - loss: 0.0130 - accuracy: 0.6852 - val_loss: 0.0128 - val_accuracy: 0.6908\n",
            "Epoch 9/20\n",
            "391/391 [==============================] - 53s 136ms/step - loss: 0.0127 - accuracy: 0.6897 - val_loss: 0.0126 - val_accuracy: 0.6925\n",
            "Epoch 10/20\n",
            "391/391 [==============================] - 52s 132ms/step - loss: 0.0125 - accuracy: 0.6952 - val_loss: 0.0124 - val_accuracy: 0.7033\n",
            "Epoch 11/20\n",
            "391/391 [==============================] - 53s 137ms/step - loss: 0.0123 - accuracy: 0.6996 - val_loss: 0.0123 - val_accuracy: 0.7052\n",
            "Epoch 12/20\n",
            "391/391 [==============================] - 52s 134ms/step - loss: 0.0122 - accuracy: 0.7033 - val_loss: 0.0121 - val_accuracy: 0.6953\n",
            "Epoch 13/20\n",
            "391/391 [==============================] - 52s 133ms/step - loss: 0.0121 - accuracy: 0.7073 - val_loss: 0.0132 - val_accuracy: 0.7170\n",
            "Epoch 14/20\n",
            "391/391 [==============================] - 53s 137ms/step - loss: 0.0119 - accuracy: 0.7104 - val_loss: 0.0121 - val_accuracy: 0.7196\n",
            "Epoch 15/20\n",
            "391/391 [==============================] - 52s 133ms/step - loss: 0.0118 - accuracy: 0.7148 - val_loss: 0.0119 - val_accuracy: 0.7132\n",
            "Epoch 16/20\n",
            "391/391 [==============================] - 51s 132ms/step - loss: 0.0117 - accuracy: 0.7169 - val_loss: 0.0118 - val_accuracy: 0.7165\n",
            "Epoch 17/20\n",
            "391/391 [==============================] - 52s 133ms/step - loss: 0.0117 - accuracy: 0.7187 - val_loss: 0.0116 - val_accuracy: 0.7195\n",
            "Epoch 18/20\n",
            "391/391 [==============================] - 53s 135ms/step - loss: 0.0116 - accuracy: 0.7200 - val_loss: 0.0115 - val_accuracy: 0.7256\n",
            "Epoch 19/20\n",
            "391/391 [==============================] - 52s 134ms/step - loss: 0.0115 - accuracy: 0.7210 - val_loss: 0.0117 - val_accuracy: 0.7269\n",
            "Epoch 20/20\n",
            "391/391 [==============================] - 53s 136ms/step - loss: 0.0115 - accuracy: 0.7214 - val_loss: 0.0113 - val_accuracy: 0.7237\n"
          ],
          "name": "stdout"
        }
      ]
    },
    {
      "cell_type": "code",
      "metadata": {
        "id": "14lLDXs6sac7",
        "outputId": "229de0ff-7cd9-40cb-d5d1-8464764c54d0"
      },
      "source": [
        "history = pd.DataFrame.from_dict(result_auto.history)\n",
        "\n",
        "\n",
        "acc = history['accuracy']\n",
        "val_acc = history['val_accuracy']\n",
        "loss = history['loss']\n",
        "val_loss = history['val_loss']\n",
        "epochs = range(len(acc))\n",
        "plt.plot(epochs, acc, '-', color='orange', label='training acc')\n",
        "plt.plot(epochs, val_acc, '-', color='blue', label='validation acc')\n",
        "plt.title('Convolutional Neural Network: Training Accuracy')\n",
        "plt.legend()\n",
        "plt.show()\n",
        "\n",
        "plt.plot(epochs, loss, '-', color='orange', label='training loss')\n",
        "plt.plot(epochs, val_loss,  '-', color='blue', label='validation loss')\n",
        "plt.title('Convolutional Neural Network: Training Loss')\n",
        "plt.legend()\n",
        "plt.show()"
      ],
      "execution_count": null,
      "outputs": [
        {
          "output_type": "display_data",
          "data": {
            "image/png": "[encoded data removed]",
            "text/plain": [
              "<Figure size 432x288 with 1 Axes>"
            ]
          },
          "metadata": {
            "tags": [],
            "needs_background": "light"
          }
        },
        {
          "output_type": "display_data",
          "data": {
            "image/png": "[encoded data removed]",
            "text/plain": [
              "<Figure size 432x288 with 1 Axes>"
            ]
          },
          "metadata": {
            "tags": [],
            "needs_background": "light"
          }
        }
      ]
    },
    {
      "cell_type": "code",
      "metadata": {
        "id": "UnaOx96psac7",
        "outputId": "f42e6837-44f5-4c33-854c-7c482ccbcf82"
      },
      "source": [
        "new = autoencoder.predict(x_test)\n",
        "\n",
        "n = 10\n",
        "plt.figure(figsize=(20, 4))\n",
        "\n",
        "# original\n",
        "for i in range(1, n + 1):\n",
        "    ax = plt.subplot(2, n, i)\n",
        "    plt.imshow(x_test[i])\n",
        "    ax.get_xaxis().set_visible(False)\n",
        "    ax.get_yaxis().set_visible(False)\n",
        "\n",
        "   \n",
        "    ax = plt.subplot(2, n, i + n)#predict\n",
        "    plt.imshow(new[i])\n",
        "    ax.get_xaxis().set_visible(False)\n",
        "    ax.get_yaxis().set_visible(False)\n",
        "plt.show()\n"
      ],
      "execution_count": null,
      "outputs": [
        {
          "output_type": "stream",
          "text": [
            "Clipping input data to the valid range for imshow with RGB data ([0..1] for floats or [0..255] for integers).\n",
            "Clipping input data to the valid range for imshow with RGB data ([0..1] for floats or [0..255] for integers).\n"
          ],
          "name": "stderr"
        },
        {
          "output_type": "display_data",
          "data": {
            "image/png": "[encoded data removed]",
            "text/plain": [
              "<Figure size 1440x288 with 20 Axes>"
            ]
          },
          "metadata": {
            "tags": [],
            "needs_background": "light"
          }
        }
      ]
    },
    {
      "cell_type": "code",
      "metadata": {
        "id": "eNr5VrfMsac7"
      },
      "source": [
        ""
      ],
      "execution_count": null,
      "outputs": []
    },
    {
      "cell_type": "markdown",
      "metadata": {
        "id": "pXzr4OMvscvB"
      },
      "source": [
        "### 2. Image Classification\n",
        "#### 2.1 Deep CNN\n",
        "\n",
        "Build a deep CNN to classify the images. Provide a brief description of the\n",
        "architectural choices you’ve made: kernel sizes, strides, padding, network depth.Train your network end-to-end. Report on your model’s performance on the training set and test set.\n",
        "\n",
        "\n",
        "Model summary:\n",
        "This CNN model is consisted of six layers and two dense layers. The first two layers have 3 by 3 kernel size, 64 filters, valid paddings and use relu as activiation function. Then there's a max pooling layer to extract features. In order to avoid overfit, a dropout function is applied with rate of 0.25 to drop some of the cells. The second block has the similar structure except the kernal is 4 by 4 sized. Lastly, there are two dense layers. \n",
        "\n",
        "The training accuracy is about 0.71 and testing accuarcy is about 0.6906. "
      ]
    },
    {
      "cell_type": "code",
      "metadata": {
        "colab": {
          "base_uri": "https://localhost:8080/"
        },
        "id": "0ezVatRQsc7m",
        "outputId": "1e188124-2bc0-4d84-a0ff-571a7c37e28f"
      },
      "source": [
        "(x_train, y_train), (x_test, y_test) = cifar10.load_data()\n",
        "\n",
        "x_train = x_train.astype('float32') / 255.\n",
        "x_test = x_test.astype('float32') / 255.\n",
        "\n",
        "print(\"Shape of training data X is \", x_train.shape)\n",
        "print(\"Shape of training data y is \", y_train.shape)\n",
        "\n",
        "print(\"Shape of testing data X is \", x_test.shape)\n",
        "print(\"Shape of testing data y is \", y_test.shape)"
      ],
      "execution_count": 3,
      "outputs": [
        {
          "output_type": "stream",
          "text": [
            "Downloading data from https://www.cs.toronto.edu/~kriz/cifar-10-python.tar.gz\n",
            "170500096/170498071 [==============================] - 2s 0us/step\n",
            "Shape of training data X is  (50000, 32, 32, 3)\n",
            "Shape of training data y is  (50000, 1)\n",
            "Shape of testing data X is  (10000, 32, 32, 3)\n",
            "Shape of testing data y is  (10000, 1)\n"
          ],
          "name": "stdout"
        }
      ]
    },
    {
      "cell_type": "code",
      "metadata": {
        "colab": {
          "base_uri": "https://localhost:8080/"
        },
        "id": "F7Rt8-z0soC9",
        "outputId": "7d54c33d-b374-4cc5-da35-68c36a8abb6c"
      },
      "source": [
        "model = Sequential()\n",
        "\n",
        "model.add(tfkl.Conv2D(filters=64, kernel_size=(3,3), strides=(1,1),padding='valid', activation='relu', input_shape=(32,32,3))) \n",
        "model.add(tfkl.Conv2D(filters=64, kernel_size=(3,3), strides=(1,1),padding='valid', activation='relu')) \n",
        "model.add(tfkl.MaxPooling2D(pool_size=(2,2), padding = 'valid'))\n",
        "model.add(tfkl.Dropout(0.25))\n",
        "\n",
        "model.add(tfkl.Conv2D(filters=64, kernel_size=(4,4), strides=(1,1),padding='valid', activation='relu'))\n",
        "model.add(tfkl.MaxPooling2D(pool_size=(2, 2)))\n",
        "model.add(tfkl.Dropout(0.25))\n",
        "\n",
        "model.add(tfkl.Flatten())\n",
        "model.add(tfkl.Dense(64, activation='relu'))\n",
        "model.add(tfkl.Dropout(0.25))\n",
        "model.add(tfkl.Dense(10, activation='softmax'))\n",
        "model.summary()\n"
      ],
      "execution_count": 6,
      "outputs": [
        {
          "output_type": "stream",
          "text": [
            "Model: \"sequential_1\"\n",
            "_________________________________________________________________\n",
            "Layer (type)                 Output Shape              Param #   \n",
            "=================================================================\n",
            "conv2d_3 (Conv2D)            (None, 30, 30, 64)        1792      \n",
            "_________________________________________________________________\n",
            "conv2d_4 (Conv2D)            (None, 28, 28, 64)        36928     \n",
            "_________________________________________________________________\n",
            "max_pooling2d_2 (MaxPooling2 (None, 14, 14, 64)        0         \n",
            "_________________________________________________________________\n",
            "dropout_3 (Dropout)          (None, 14, 14, 64)        0         \n",
            "_________________________________________________________________\n",
            "conv2d_5 (Conv2D)            (None, 11, 11, 64)        65600     \n",
            "_________________________________________________________________\n",
            "max_pooling2d_3 (MaxPooling2 (None, 5, 5, 64)          0         \n",
            "_________________________________________________________________\n",
            "dropout_4 (Dropout)          (None, 5, 5, 64)          0         \n",
            "_________________________________________________________________\n",
            "flatten_1 (Flatten)          (None, 1600)              0         \n",
            "_________________________________________________________________\n",
            "dense_2 (Dense)              (None, 64)                102464    \n",
            "_________________________________________________________________\n",
            "dropout_5 (Dropout)          (None, 64)                0         \n",
            "_________________________________________________________________\n",
            "dense_3 (Dense)              (None, 10)                650       \n",
            "=================================================================\n",
            "Total params: 207,434\n",
            "Trainable params: 207,434\n",
            "Non-trainable params: 0\n",
            "_________________________________________________________________\n"
          ],
          "name": "stdout"
        }
      ]
    },
    {
      "cell_type": "code",
      "metadata": {
        "colab": {
          "base_uri": "https://localhost:8080/"
        },
        "id": "y0Jwu5RdvrIc",
        "outputId": "b3c8acc7-f9df-497e-896c-00c9012f4928"
      },
      "source": [
        "model.compile(optimizer='rmsprop',\n",
        "              loss='categorical_crossentropy',\n",
        "              metrics=['accuracy'])\n",
        "\n",
        "ytrain_label = to_categorical(y_train)\n",
        "ytest_label = to_categorical(y_test)\n",
        "\n",
        "results =model.fit(x_train,\n",
        "                      ytrain_label,\n",
        "                      steps_per_epoch=100,\n",
        "                      epochs=20,batch_size=128,\n",
        "                      validation_data=(x_test,ytest_label))\n",
        "\n"
      ],
      "execution_count": 8,
      "outputs": [
        {
          "output_type": "stream",
          "text": [
            "Epoch 1/20\n",
            "100/100 [==============================] - 2s 24ms/step - loss: 2.1115 - accuracy: 0.2182 - val_loss: 1.8730 - val_accuracy: 0.3185\n",
            "Epoch 2/20\n",
            "100/100 [==============================] - 2s 21ms/step - loss: 1.8225 - accuracy: 0.3382 - val_loss: 1.6858 - val_accuracy: 0.3926\n",
            "Epoch 3/20\n",
            "100/100 [==============================] - 2s 21ms/step - loss: 1.6733 - accuracy: 0.3897 - val_loss: 1.6146 - val_accuracy: 0.4264\n",
            "Epoch 4/20\n",
            "100/100 [==============================] - 2s 22ms/step - loss: 1.5791 - accuracy: 0.4288 - val_loss: 1.4645 - val_accuracy: 0.4733\n",
            "Epoch 5/20\n",
            "100/100 [==============================] - 2s 22ms/step - loss: 1.4844 - accuracy: 0.4672 - val_loss: 1.3152 - val_accuracy: 0.5301\n",
            "Epoch 6/20\n",
            "100/100 [==============================] - 2s 22ms/step - loss: 1.4238 - accuracy: 0.4951 - val_loss: 1.2786 - val_accuracy: 0.5494\n",
            "Epoch 7/20\n",
            "100/100 [==============================] - 2s 21ms/step - loss: 1.3750 - accuracy: 0.5155 - val_loss: 1.2277 - val_accuracy: 0.5784\n",
            "Epoch 8/20\n",
            "100/100 [==============================] - 2s 21ms/step - loss: 1.3076 - accuracy: 0.5337 - val_loss: 1.2059 - val_accuracy: 0.5759\n",
            "Epoch 9/20\n",
            "100/100 [==============================] - 2s 21ms/step - loss: 1.2516 - accuracy: 0.5548 - val_loss: 1.1946 - val_accuracy: 0.5745\n",
            "Epoch 10/20\n",
            "100/100 [==============================] - 2s 22ms/step - loss: 1.2274 - accuracy: 0.5729 - val_loss: 1.1726 - val_accuracy: 0.5925\n",
            "Epoch 11/20\n",
            "100/100 [==============================] - 2s 21ms/step - loss: 1.2080 - accuracy: 0.5774 - val_loss: 1.0540 - val_accuracy: 0.6372\n",
            "Epoch 12/20\n",
            "100/100 [==============================] - 2s 22ms/step - loss: 1.1550 - accuracy: 0.5950 - val_loss: 1.0727 - val_accuracy: 0.6257\n",
            "Epoch 13/20\n",
            "100/100 [==============================] - 2s 21ms/step - loss: 1.1264 - accuracy: 0.6065 - val_loss: 0.9940 - val_accuracy: 0.6565\n",
            "Epoch 14/20\n",
            "100/100 [==============================] - 2s 21ms/step - loss: 1.1145 - accuracy: 0.6096 - val_loss: 0.9770 - val_accuracy: 0.6625\n",
            "Epoch 15/20\n",
            "100/100 [==============================] - 2s 21ms/step - loss: 1.0903 - accuracy: 0.6191 - val_loss: 1.0051 - val_accuracy: 0.6642\n",
            "Epoch 16/20\n",
            "100/100 [==============================] - 2s 21ms/step - loss: 1.0526 - accuracy: 0.6269 - val_loss: 0.9350 - val_accuracy: 0.6764\n",
            "Epoch 17/20\n",
            "100/100 [==============================] - 2s 21ms/step - loss: 1.0325 - accuracy: 0.6422 - val_loss: 1.0597 - val_accuracy: 0.6347\n",
            "Epoch 18/20\n",
            "100/100 [==============================] - 2s 21ms/step - loss: 1.0190 - accuracy: 0.6466 - val_loss: 0.9538 - val_accuracy: 0.6766\n",
            "Epoch 19/20\n",
            "100/100 [==============================] - 2s 21ms/step - loss: 1.0010 - accuracy: 0.6527 - val_loss: 1.0925 - val_accuracy: 0.6065\n",
            "Epoch 20/20\n",
            "100/100 [==============================] - 2s 21ms/step - loss: 0.9950 - accuracy: 0.6543 - val_loss: 0.9017 - val_accuracy: 0.6906\n"
          ],
          "name": "stdout"
        }
      ]
    },
    {
      "cell_type": "code",
      "metadata": {
        "colab": {
          "base_uri": "https://localhost:8080/"
        },
        "id": "BTOHds7-1bRU",
        "outputId": "1391d02c-1b6c-4dff-ee53-270d4f069dd4"
      },
      "source": [
        "#training accuracy \n",
        "model.evaluate(x_train, ytrain_label)"
      ],
      "execution_count": 10,
      "outputs": [
        {
          "output_type": "stream",
          "text": [
            "1563/1563 [==============================] - 5s 3ms/step - loss: 0.8175 - accuracy: 0.7166\n"
          ],
          "name": "stdout"
        },
        {
          "output_type": "execute_result",
          "data": {
            "text/plain": [
              "[0.8174813389778137, 0.7165600061416626]"
            ]
          },
          "metadata": {
            "tags": []
          },
          "execution_count": 10
        }
      ]
    },
    {
      "cell_type": "code",
      "metadata": {
        "colab": {
          "base_uri": "https://localhost:8080/"
        },
        "id": "VPJtnB6Iy2jB",
        "outputId": "013a162a-0943-46cf-90eb-124bb4f98c39"
      },
      "source": [
        "#testing accuracy \n",
        "model.evaluate(x_test, ytest_label)"
      ],
      "execution_count": 9,
      "outputs": [
        {
          "output_type": "stream",
          "text": [
            "313/313 [==============================] - 1s 3ms/step - loss: 0.9017 - accuracy: 0.6906\n"
          ],
          "name": "stdout"
        },
        {
          "output_type": "execute_result",
          "data": {
            "text/plain": [
              "[0.9016988277435303, 0.6905999779701233]"
            ]
          },
          "metadata": {
            "tags": []
          },
          "execution_count": 9
        }
      ]
    },
    {
      "cell_type": "code",
      "metadata": {
        "colab": {
          "base_uri": "https://localhost:8080/",
          "height": 281
        },
        "id": "dE1FplLN1Sa-",
        "outputId": "626b7821-f5d7-43a3-d7b4-2bb355d0146d"
      },
      "source": [
        "history = pd.DataFrame.from_dict(results.history)\n",
        "\n",
        "acc = history['accuracy']\n",
        "val_acc = history['val_accuracy']\n",
        "epochs = range(len(acc))\n",
        "plt.plot(epochs, acc, '-', color='orange', label='training acc')\n",
        "plt.plot(epochs, val_acc, '-', color='blue', label='validation acc')\n",
        "plt.title('Convolutional Neural Network: Training Accuracy')\n",
        "plt.legend()\n",
        "plt.show()\n"
      ],
      "execution_count": 11,
      "outputs": [
        {
          "output_type": "display_data",
          "data": {
            "image/png": "[encoded data removed]",
            "text/plain": [
              "<Figure size 432x288 with 1 Axes>"
            ]
          },
          "metadata": {
            "tags": [],
            "needs_background": "light"
          }
        }
      ]
    },
    {
      "cell_type": "markdown",
      "metadata": {
        "id": "ARIth7zw2KQJ"
      },
      "source": [
        "#### 2.1 Transfer Learning\n",
        "Repeat the same task, but this time utilize a pre-trained network for the majority of your model. You should only train the final Dense layer, all other weights should be fixed. You can use whichever pre-trained backbone you like (ResNet, VGG, etc). Report on your model’s performance on the training set and test set.\n",
        "\n",
        "The pre-trained VGG model performed a little worse than the previous deep CNN model. The training accuracy is 0.604 and testing accuracy is 0.585. "
      ]
    },
    {
      "cell_type": "code",
      "metadata": {
        "colab": {
          "base_uri": "https://localhost:8080/"
        },
        "id": "yeBpVnCn1w6k",
        "outputId": "cf5b75ab-f9b0-49b4-b54c-c7de37658884"
      },
      "source": [
        "from keras.applications import VGG16\n",
        "\n",
        "baseModel = VGG16(weights=\"imagenet\", include_top=False, input_shape=(32,32,3), classifier_activation=\"sigmoid\")\n",
        "\n",
        "for layer in baseModel.layers:\n",
        "    layer.trainable = False\n",
        "\n",
        "model = Sequential()\n",
        "model.add(baseModel)\n",
        "model.add(Flatten())\n",
        "model.add(tfkl.Dense(64, activation='relu'))\n",
        "model.add(tfkl.Dropout(0.25))\n",
        "model.add(Dense(10,activation=\"softmax\"))\n",
        "\n",
        "model.summary()\n"
      ],
      "execution_count": 13,
      "outputs": [
        {
          "output_type": "stream",
          "text": [
            "Model: \"sequential_3\"\n",
            "_________________________________________________________________\n",
            "Layer (type)                 Output Shape              Param #   \n",
            "=================================================================\n",
            "vgg16 (Functional)           (None, 1, 1, 512)         14714688  \n",
            "_________________________________________________________________\n",
            "flatten_3 (Flatten)          (None, 512)               0         \n",
            "_________________________________________________________________\n",
            "dense_6 (Dense)              (None, 64)                32832     \n",
            "_________________________________________________________________\n",
            "dropout_7 (Dropout)          (None, 64)                0         \n",
            "_________________________________________________________________\n",
            "dense_7 (Dense)              (None, 10)                650       \n",
            "=================================================================\n",
            "Total params: 14,748,170\n",
            "Trainable params: 33,482\n",
            "Non-trainable params: 14,714,688\n",
            "_________________________________________________________________\n"
          ],
          "name": "stdout"
        }
      ]
    },
    {
      "cell_type": "code",
      "metadata": {
        "colab": {
          "base_uri": "https://localhost:8080/"
        },
        "id": "1H4CfskU4GkE",
        "outputId": "8f2427ef-e883-4790-d375-fdf0a245e269"
      },
      "source": [
        "model.compile(optimizer='rmsprop',\n",
        "              loss='categorical_crossentropy',\n",
        "              metrics=['accuracy'])\n",
        "\n",
        "results =model.fit(x_train,\n",
        "                      ytrain_label,\n",
        "                      steps_per_epoch=100,\n",
        "                      epochs=20,batch_size=128,\n",
        "                      validation_data=(x_test,ytest_label))\n"
      ],
      "execution_count": 14,
      "outputs": [
        {
          "output_type": "stream",
          "text": [
            "Epoch 1/20\n",
            "100/100 [==============================] - 4s 41ms/step - loss: 1.9056 - accuracy: 0.3215 - val_loss: 1.6327 - val_accuracy: 0.4483\n",
            "Epoch 2/20\n",
            "100/100 [==============================] - 4s 37ms/step - loss: 1.6091 - accuracy: 0.4334 - val_loss: 1.4895 - val_accuracy: 0.4836\n",
            "Epoch 3/20\n",
            "100/100 [==============================] - 4s 37ms/step - loss: 1.5185 - accuracy: 0.4752 - val_loss: 1.4200 - val_accuracy: 0.5088\n",
            "Epoch 4/20\n",
            "100/100 [==============================] - 4s 39ms/step - loss: 1.4469 - accuracy: 0.4951 - val_loss: 1.3674 - val_accuracy: 0.5245\n",
            "Epoch 5/20\n",
            "100/100 [==============================] - 4s 36ms/step - loss: 1.4053 - accuracy: 0.5045 - val_loss: 1.3362 - val_accuracy: 0.5357\n",
            "Epoch 6/20\n",
            "100/100 [==============================] - 4s 36ms/step - loss: 1.3840 - accuracy: 0.5206 - val_loss: 1.3224 - val_accuracy: 0.5393\n",
            "Epoch 7/20\n",
            "100/100 [==============================] - 4s 38ms/step - loss: 1.3496 - accuracy: 0.5288 - val_loss: 1.2928 - val_accuracy: 0.5482\n",
            "Epoch 8/20\n",
            "100/100 [==============================] - 4s 37ms/step - loss: 1.3398 - accuracy: 0.5376 - val_loss: 1.2960 - val_accuracy: 0.5459\n",
            "Epoch 9/20\n",
            "100/100 [==============================] - 4s 37ms/step - loss: 1.3120 - accuracy: 0.5380 - val_loss: 1.2703 - val_accuracy: 0.5551\n",
            "Epoch 10/20\n",
            "100/100 [==============================] - 4s 36ms/step - loss: 1.3084 - accuracy: 0.5403 - val_loss: 1.2592 - val_accuracy: 0.5619\n",
            "Epoch 11/20\n",
            "100/100 [==============================] - 4s 36ms/step - loss: 1.2918 - accuracy: 0.5535 - val_loss: 1.2542 - val_accuracy: 0.5606\n",
            "Epoch 12/20\n",
            "100/100 [==============================] - 4s 36ms/step - loss: 1.2836 - accuracy: 0.5517 - val_loss: 1.2434 - val_accuracy: 0.5639\n",
            "Epoch 13/20\n",
            "100/100 [==============================] - 4s 37ms/step - loss: 1.2682 - accuracy: 0.5575 - val_loss: 1.2303 - val_accuracy: 0.5718\n",
            "Epoch 14/20\n",
            "100/100 [==============================] - 4s 37ms/step - loss: 1.2637 - accuracy: 0.5582 - val_loss: 1.2213 - val_accuracy: 0.5721\n",
            "Epoch 15/20\n",
            "100/100 [==============================] - 4s 37ms/step - loss: 1.2447 - accuracy: 0.5705 - val_loss: 1.2337 - val_accuracy: 0.5668\n",
            "Epoch 16/20\n",
            "100/100 [==============================] - 4s 37ms/step - loss: 1.2630 - accuracy: 0.5645 - val_loss: 1.2140 - val_accuracy: 0.5739\n",
            "Epoch 17/20\n",
            "100/100 [==============================] - 4s 37ms/step - loss: 1.2381 - accuracy: 0.5648 - val_loss: 1.2103 - val_accuracy: 0.5781\n",
            "Epoch 18/20\n",
            "100/100 [==============================] - 4s 37ms/step - loss: 1.2262 - accuracy: 0.5770 - val_loss: 1.2116 - val_accuracy: 0.5751\n",
            "Epoch 19/20\n",
            "100/100 [==============================] - 4s 37ms/step - loss: 1.2391 - accuracy: 0.5695 - val_loss: 1.2033 - val_accuracy: 0.5793\n",
            "Epoch 20/20\n",
            "100/100 [==============================] - 4s 37ms/step - loss: 1.2243 - accuracy: 0.5718 - val_loss: 1.2016 - val_accuracy: 0.5847\n"
          ],
          "name": "stdout"
        }
      ]
    },
    {
      "cell_type": "code",
      "metadata": {
        "colab": {
          "base_uri": "https://localhost:8080/"
        },
        "id": "OufNVZsW4O20",
        "outputId": "8bb73ed2-6533-4e58-eda0-9616d6fff590"
      },
      "source": [
        "#training accuracy \n",
        "model.evaluate(x_train, ytrain_label)"
      ],
      "execution_count": 15,
      "outputs": [
        {
          "output_type": "stream",
          "text": [
            "1563/1563 [==============================] - 17s 11ms/step - loss: 1.1379 - accuracy: 0.6041\n"
          ],
          "name": "stdout"
        },
        {
          "output_type": "execute_result",
          "data": {
            "text/plain": [
              "[1.1378966569900513, 0.6041399836540222]"
            ]
          },
          "metadata": {
            "tags": []
          },
          "execution_count": 15
        }
      ]
    },
    {
      "cell_type": "code",
      "metadata": {
        "colab": {
          "base_uri": "https://localhost:8080/"
        },
        "id": "_V-iJ_oW4eYw",
        "outputId": "0ec3aeec-24ed-4847-98ca-f74889b3c9b4"
      },
      "source": [
        "#testing accuracy \n",
        "model.evaluate(x_test, ytest_label)"
      ],
      "execution_count": 16,
      "outputs": [
        {
          "output_type": "stream",
          "text": [
            "313/313 [==============================] - 3s 11ms/step - loss: 1.2016 - accuracy: 0.5847\n"
          ],
          "name": "stdout"
        },
        {
          "output_type": "execute_result",
          "data": {
            "text/plain": [
              "[1.2016011476516724, 0.5846999883651733]"
            ]
          },
          "metadata": {
            "tags": []
          },
          "execution_count": 16
        }
      ]
    },
    {
      "cell_type": "code",
      "metadata": {
        "colab": {
          "base_uri": "https://localhost:8080/",
          "height": 281
        },
        "id": "UnPwilEj4ftQ",
        "outputId": "4c7f06af-0b56-4aef-f1cb-27a53cff6d0e"
      },
      "source": [
        "history = pd.DataFrame.from_dict(results.history)\n",
        "\n",
        "acc = history['accuracy']\n",
        "val_acc = history['val_accuracy']\n",
        "epochs = range(len(acc))\n",
        "plt.plot(epochs, acc, '-', color='orange', label='training acc')\n",
        "plt.plot(epochs, val_acc, '-', color='blue', label='validation acc')\n",
        "plt.title('Convolutional Neural Network: Training Accuracy')\n",
        "plt.legend()\n",
        "plt.show()"
      ],
      "execution_count": 17,
      "outputs": [
        {
          "output_type": "display_data",
          "data": {
            "image/png": "[encoded data removed]",
            "text/plain": [
              "<Figure size 432x288 with 1 Axes>"
            ]
          },
          "metadata": {
            "tags": [],
            "needs_background": "light"
          }
        }
      ]
    },
    {
      "cell_type": "markdown",
      "metadata": {
        "id": "28czqJwo5Vjv"
      },
      "source": [
        "### 3. Text Classification\n",
        "#### 3.1 RNN\n",
        "\n",
        "Build and train a Recurrent Neural Network to solve this text classification task. You can use any type of RNN you wish (SimpleRNN, GRU, LSTM).\n"
      ]
    },
    {
      "cell_type": "code",
      "metadata": {
        "colab": {
          "base_uri": "https://localhost:8080/"
        },
        "id": "2RpdNWIi423V",
        "outputId": "c7c5f94c-9c61-4ffa-e1c7-688173c6a9a3"
      },
      "source": [
        "import os\n",
        "from google.colab import drive\n",
        "drive.mount('/content/drive')"
      ],
      "execution_count": 18,
      "outputs": [
        {
          "output_type": "stream",
          "text": [
            "Mounted at /content/drive\n"
          ],
          "name": "stdout"
        }
      ]
    },
    {
      "cell_type": "code",
      "metadata": {
        "id": "a8n8F7do5jn-"
      },
      "source": [
        "data = '/content/drive/My Drive/ColabNotebooks/SPAM_detection.csv'\n",
        "df= pd.read_csv(data)"
      ],
      "execution_count": 30,
      "outputs": []
    },
    {
      "cell_type": "code",
      "metadata": {
        "colab": {
          "base_uri": "https://localhost:8080/",
          "height": 204
        },
        "id": "Cltr-OiC562o",
        "outputId": "8a57d8ec-8b19-4be9-a234-d02f3297e5e2"
      },
      "source": [
        "df.head(5)"
      ],
      "execution_count": 31,
      "outputs": [
        {
          "output_type": "execute_result",
          "data": {
            "text/html": [
              "<div>\n",
              "<style scoped>\n",
              "    .dataframe tbody tr th:only-of-type {\n",
              "        vertical-align: middle;\n",
              "    }\n",
              "\n",
              "    .dataframe tbody tr th {\n",
              "        vertical-align: top;\n",
              "    }\n",
              "\n",
              "    .dataframe thead th {\n",
              "        text-align: right;\n",
              "    }\n",
              "</style>\n",
              "<table border=\"1\" class=\"dataframe\">\n",
              "  <thead>\n",
              "    <tr style=\"text-align: right;\">\n",
              "      <th></th>\n",
              "      <th>Message</th>\n",
              "      <th>category_val</th>\n",
              "    </tr>\n",
              "  </thead>\n",
              "  <tbody>\n",
              "    <tr>\n",
              "      <th>0</th>\n",
              "      <td>Go until jurong point, crazy.. Available only ...</td>\n",
              "      <td>0</td>\n",
              "    </tr>\n",
              "    <tr>\n",
              "      <th>1</th>\n",
              "      <td>Ok lar... Joking wif u oni...</td>\n",
              "      <td>0</td>\n",
              "    </tr>\n",
              "    <tr>\n",
              "      <th>2</th>\n",
              "      <td>Free entry in 2 a wkly comp to win FA Cup fina...</td>\n",
              "      <td>1</td>\n",
              "    </tr>\n",
              "    <tr>\n",
              "      <th>3</th>\n",
              "      <td>U dun say so early hor... U c already then say...</td>\n",
              "      <td>0</td>\n",
              "    </tr>\n",
              "    <tr>\n",
              "      <th>4</th>\n",
              "      <td>Nah I don't think he goes to usf, he lives aro...</td>\n",
              "      <td>0</td>\n",
              "    </tr>\n",
              "  </tbody>\n",
              "</table>\n",
              "</div>"
            ],
            "text/plain": [
              "                                             Message  category_val\n",
              "0  Go until jurong point, crazy.. Available only ...             0\n",
              "1                      Ok lar... Joking wif u oni...             0\n",
              "2  Free entry in 2 a wkly comp to win FA Cup fina...             1\n",
              "3  U dun say so early hor... U c already then say...             0\n",
              "4  Nah I don't think he goes to usf, he lives aro...             0"
            ]
          },
          "metadata": {
            "tags": []
          },
          "execution_count": 31
        }
      ]
    },
    {
      "cell_type": "code",
      "metadata": {
        "id": "FF0rWuBy6K8f"
      },
      "source": [
        "x = np.asarray(df['Message'])\n",
        "y = np.asarray(df['category_val'])\n"
      ],
      "execution_count": 49,
      "outputs": []
    },
    {
      "cell_type": "code",
      "metadata": {
        "id": "lWcNlLUE7uBr"
      },
      "source": [
        "tokenizer = Tokenizer()\n",
        "tokenizer.fit_on_texts(x)\n",
        "vocab_size = len(tokenizer.word_index)+1\n",
        "\n",
        "sequences = tokenizer.texts_to_sequences(x)\n",
        "x = pad_sequences(sequences,padding='post')\n",
        "\n",
        "x = sequence.pad_sequences(x, 200)\n"
      ],
      "execution_count": 87,
      "outputs": []
    },
    {
      "cell_type": "code",
      "metadata": {
        "id": "Tyk0UoA07y6i"
      },
      "source": [
        "x_train, x_test, y_train, y_test  = train_test_split(data, y, test_size=0.2, random_state=0)\n"
      ],
      "execution_count": 88,
      "outputs": []
    },
    {
      "cell_type": "code",
      "metadata": {
        "colab": {
          "base_uri": "https://localhost:8080/"
        },
        "id": "_XdrO2my8Cfx",
        "outputId": "31e85ea5-566c-4d57-83e4-997fbb62effc"
      },
      "source": [
        "#rnn model \n",
        "model_rnn =Sequential()\n",
        "model_rnn.add(tfkl.Embedding(vocab_size, 16, input_length=189))\n",
        "model_rnn.add(tfkl.LSTM(128,return_sequences=True))\n",
        "model_rnn.add(tfkl.GlobalMaxPool1D())\n",
        "model_rnn.add(tfkl.Dropout(0.25))\n",
        "model_rnn.add(tfkl.Dense(64,activation=\"relu\"))\n",
        "model_rnn.add(tfkl.Dropout(0.25))\n",
        "model_rnn.add(tfkl.Dense(1,activation=\"sigmoid\"))\n",
        "\n",
        "model_rnn.compile(loss='binary_crossentropy', optimizer=tfk.optimizers.RMSprop(lr=0.001),metrics=['accuracy'])\n",
        "model_rnn.summary()"
      ],
      "execution_count": 109,
      "outputs": [
        {
          "output_type": "stream",
          "text": [
            "Model: \"sequential_29\"\n",
            "_________________________________________________________________\n",
            "Layer (type)                 Output Shape              Param #   \n",
            "=================================================================\n",
            "embedding_18 (Embedding)     (None, 189, 16)           144080    \n",
            "_________________________________________________________________\n",
            "lstm_5 (LSTM)                (None, 189, 128)          74240     \n",
            "_________________________________________________________________\n",
            "global_max_pooling1d_5 (Glob (None, 128)               0         \n",
            "_________________________________________________________________\n",
            "dropout_30 (Dropout)         (None, 128)               0         \n",
            "_________________________________________________________________\n",
            "dense_46 (Dense)             (None, 64)                8256      \n",
            "_________________________________________________________________\n",
            "dropout_31 (Dropout)         (None, 64)                0         \n",
            "_________________________________________________________________\n",
            "dense_47 (Dense)             (None, 1)                 65        \n",
            "=================================================================\n",
            "Total params: 226,641\n",
            "Trainable params: 226,641\n",
            "Non-trainable params: 0\n",
            "_________________________________________________________________\n"
          ],
          "name": "stdout"
        }
      ]
    },
    {
      "cell_type": "code",
      "metadata": {
        "colab": {
          "base_uri": "https://localhost:8080/"
        },
        "id": "d1QEAPAB8UxT",
        "outputId": "31bfc804-52fc-4013-b372-887f794457d0"
      },
      "source": [
        "result_rnn = model_rnn.fit(x_train, y_train, epochs=10, batch_size=64, validation_data=(x_test, y_test))\n"
      ],
      "execution_count": 110,
      "outputs": [
        {
          "output_type": "stream",
          "text": [
            "Epoch 1/10\n",
            "70/70 [==============================] - 2s 25ms/step - loss: 0.3992 - accuracy: 0.8600 - val_loss: 0.3059 - val_accuracy: 0.8565\n",
            "Epoch 2/10\n",
            "70/70 [==============================] - 1s 18ms/step - loss: 0.1496 - accuracy: 0.9639 - val_loss: 0.1490 - val_accuracy: 0.9659\n",
            "Epoch 3/10\n",
            "70/70 [==============================] - 1s 18ms/step - loss: 0.1448 - accuracy: 0.9679 - val_loss: 0.1735 - val_accuracy: 0.9265\n",
            "Epoch 4/10\n",
            "70/70 [==============================] - 1s 18ms/step - loss: 0.1113 - accuracy: 0.9679 - val_loss: 0.1213 - val_accuracy: 0.9650\n",
            "Epoch 5/10\n",
            "70/70 [==============================] - 1s 18ms/step - loss: 0.0897 - accuracy: 0.9805 - val_loss: 0.1054 - val_accuracy: 0.9767\n",
            "Epoch 6/10\n",
            "70/70 [==============================] - 1s 19ms/step - loss: 0.0633 - accuracy: 0.9874 - val_loss: 0.0741 - val_accuracy: 0.9821\n",
            "Epoch 7/10\n",
            "70/70 [==============================] - 1s 18ms/step - loss: 0.0757 - accuracy: 0.9780 - val_loss: 0.0574 - val_accuracy: 0.9839\n",
            "Epoch 8/10\n",
            "70/70 [==============================] - 1s 18ms/step - loss: 0.0350 - accuracy: 0.9897 - val_loss: 0.0554 - val_accuracy: 0.9821\n",
            "Epoch 9/10\n",
            "70/70 [==============================] - 1s 18ms/step - loss: 0.0267 - accuracy: 0.9942 - val_loss: 0.0722 - val_accuracy: 0.9839\n",
            "Epoch 10/10\n",
            "70/70 [==============================] - 1s 19ms/step - loss: 0.0200 - accuracy: 0.9955 - val_loss: 0.0612 - val_accuracy: 0.9848\n"
          ],
          "name": "stdout"
        }
      ]
    },
    {
      "cell_type": "code",
      "metadata": {
        "colab": {
          "base_uri": "https://localhost:8080/"
        },
        "id": "dB1Pc5m8AEC-",
        "outputId": "6cc75b88-abb9-426b-f818-f9ab9da314d3"
      },
      "source": [
        "#training accuracy \n",
        "model_rnn.evaluate(x_train, y_train)\n"
      ],
      "execution_count": 114,
      "outputs": [
        {
          "output_type": "stream",
          "text": [
            "140/140 [==============================] - 1s 6ms/step - loss: 0.0080 - accuracy: 0.9975\n"
          ],
          "name": "stdout"
        },
        {
          "output_type": "execute_result",
          "data": {
            "text/plain": [
              "[0.008017653599381447, 0.9975319504737854]"
            ]
          },
          "metadata": {
            "tags": []
          },
          "execution_count": 114
        }
      ]
    },
    {
      "cell_type": "code",
      "metadata": {
        "colab": {
          "base_uri": "https://localhost:8080/"
        },
        "id": "MtqtgdpPAa0B",
        "outputId": "a9c3befe-2576-42b5-ae54-2a79fdc6a6ba"
      },
      "source": [
        "\n",
        "#testing accuracy \n",
        "model_rnn.evaluate(x_test, y_test)"
      ],
      "execution_count": 112,
      "outputs": [
        {
          "output_type": "stream",
          "text": [
            "35/35 [==============================] - 0s 6ms/step - loss: 0.0612 - accuracy: 0.9848\n"
          ],
          "name": "stdout"
        },
        {
          "output_type": "execute_result",
          "data": {
            "text/plain": [
              "[0.0612105168402195, 0.9847533702850342]"
            ]
          },
          "metadata": {
            "tags": []
          },
          "execution_count": 112
        }
      ]
    },
    {
      "cell_type": "code",
      "metadata": {
        "colab": {
          "base_uri": "https://localhost:8080/",
          "height": 281
        },
        "id": "nBaWWQlf8bkP",
        "outputId": "8639b298-fe0e-477d-d088-41bd2bf7853a"
      },
      "source": [
        "history = pd.DataFrame.from_dict(result_rnn.history)\n",
        "\n",
        "acc = history['accuracy']\n",
        "val_acc = history['val_accuracy']\n",
        "epochs = range(len(acc))\n",
        "plt.plot(epochs, acc, '-', color='orange', label='training acc')\n",
        "plt.plot(epochs, val_acc, '-', color='blue', label='validation acc')\n",
        "plt.title('Recurrent Neural Network: Training Accuracy')\n",
        "plt.legend()\n",
        "plt.show()"
      ],
      "execution_count": 115,
      "outputs": [
        {
          "output_type": "display_data",
          "data": {
            "image/png": "[encoded data removed]",
            "text/plain": [
              "<Figure size 432x288 with 1 Axes>"
            ]
          },
          "metadata": {
            "tags": [],
            "needs_background": "light"
          }
        }
      ]
    },
    {
      "cell_type": "markdown",
      "metadata": {
        "id": "tWWdH2Aq8z9R"
      },
      "source": [
        "#### 3.2 CNN\n",
        "\n",
        "Build and train a 1D CNN for this text classification task. We recommend you do a character-level convolution (with character embeddings).\n",
        "\n"
      ]
    },
    {
      "cell_type": "code",
      "metadata": {
        "colab": {
          "base_uri": "https://localhost:8080/"
        },
        "id": "i4U2ahtCBgjB",
        "outputId": "a639173c-1277-480d-d3b9-c9137310ffa6"
      },
      "source": [
        "x_train.shape\n"
      ],
      "execution_count": 116,
      "outputs": [
        {
          "output_type": "execute_result",
          "data": {
            "text/plain": [
              "(4457, 189)"
            ]
          },
          "metadata": {
            "tags": []
          },
          "execution_count": 116
        }
      ]
    },
    {
      "cell_type": "code",
      "metadata": {
        "colab": {
          "base_uri": "https://localhost:8080/"
        },
        "id": "5rST9IrG8muo",
        "outputId": "b5b6a5c6-0899-4818-d7c6-76ed55015f55"
      },
      "source": [
        "model = Sequential()\n",
        "model.add(tfkl.Embedding(len(tokenizer.word_index)+1, 16))\n",
        "model.add(Conv1D(128,activation='relu', kernel_size=3,padding='valid'))\n",
        "model.add(SpatialDropout1D(0.25))\n",
        "model.add(MaxPool1D())\n",
        "model.add(Conv1D(64,activation='relu', kernel_size=3,padding='valid'))\n",
        "model.add(SpatialDropout1D(0.25))\n",
        "model.add(MaxPool1D())\n",
        "model.add(Conv1D(21,activation='relu', kernel_size=2,padding='valid'))\n",
        "model.add(SpatialDropout1D(0.25))\n",
        "model.add(MaxPool1D())\n",
        "\n",
        "model.add(Dense(1, activation='sigmoid'))\n",
        "model.summary()\n"
      ],
      "execution_count": 117,
      "outputs": [
        {
          "output_type": "stream",
          "text": [
            "Model: \"sequential_30\"\n",
            "_________________________________________________________________\n",
            "Layer (type)                 Output Shape              Param #   \n",
            "=================================================================\n",
            "embedding_19 (Embedding)     (None, None, 16)          144080    \n",
            "_________________________________________________________________\n",
            "conv1d_39 (Conv1D)           (None, None, 128)         6272      \n",
            "_________________________________________________________________\n",
            "spatial_dropout1d_39 (Spatia (None, None, 128)         0         \n",
            "_________________________________________________________________\n",
            "max_pooling1d_39 (MaxPooling (None, None, 128)         0         \n",
            "_________________________________________________________________\n",
            "conv1d_40 (Conv1D)           (None, None, 64)          24640     \n",
            "_________________________________________________________________\n",
            "spatial_dropout1d_40 (Spatia (None, None, 64)          0         \n",
            "_________________________________________________________________\n",
            "max_pooling1d_40 (MaxPooling (None, None, 64)          0         \n",
            "_________________________________________________________________\n",
            "conv1d_41 (Conv1D)           (None, None, 21)          2709      \n",
            "_________________________________________________________________\n",
            "spatial_dropout1d_41 (Spatia (None, None, 21)          0         \n",
            "_________________________________________________________________\n",
            "max_pooling1d_41 (MaxPooling (None, None, 21)          0         \n",
            "_________________________________________________________________\n",
            "dense_48 (Dense)             (None, None, 1)           22        \n",
            "=================================================================\n",
            "Total params: 177,723\n",
            "Trainable params: 177,723\n",
            "Non-trainable params: 0\n",
            "_________________________________________________________________\n"
          ],
          "name": "stdout"
        }
      ]
    },
    {
      "cell_type": "code",
      "metadata": {
        "colab": {
          "base_uri": "https://localhost:8080/"
        },
        "id": "7nM0SMqz-gvt",
        "outputId": "67116b59-9a85-49b1-dce6-f309f2a9cfa1"
      },
      "source": [
        "model.compile(loss='binary_crossentropy',optimizer='adam', metrics=['accuracy'])\n",
        "\n",
        "result = model.fit(x_train, y_train, epochs=10, batch_size=64, validation_data=(x_test, y_test))\n"
      ],
      "execution_count": 118,
      "outputs": [
        {
          "output_type": "stream",
          "text": [
            "Epoch 1/10\n",
            "70/70 [==============================] - 1s 15ms/step - loss: 0.4554 - accuracy: 0.8631 - val_loss: 0.4030 - val_accuracy: 0.8565\n",
            "Epoch 2/10\n",
            "70/70 [==============================] - 1s 11ms/step - loss: 0.3827 - accuracy: 0.8723 - val_loss: 0.3794 - val_accuracy: 0.8712\n",
            "Epoch 3/10\n",
            "70/70 [==============================] - 1s 11ms/step - loss: 0.3595 - accuracy: 0.8843 - val_loss: 0.3650 - val_accuracy: 0.8751\n",
            "Epoch 4/10\n",
            "70/70 [==============================] - 1s 11ms/step - loss: 0.3528 - accuracy: 0.8869 - val_loss: 0.3638 - val_accuracy: 0.8765\n",
            "Epoch 5/10\n",
            "70/70 [==============================] - 1s 11ms/step - loss: 0.3495 - accuracy: 0.8877 - val_loss: 0.3764 - val_accuracy: 0.8756\n",
            "Epoch 6/10\n",
            "70/70 [==============================] - 1s 11ms/step - loss: 0.3478 - accuracy: 0.8886 - val_loss: 0.3643 - val_accuracy: 0.8764\n",
            "Epoch 7/10\n",
            "70/70 [==============================] - 1s 11ms/step - loss: 0.3474 - accuracy: 0.8889 - val_loss: 0.3646 - val_accuracy: 0.8766\n",
            "Epoch 8/10\n",
            "70/70 [==============================] - 1s 11ms/step - loss: 0.3425 - accuracy: 0.8892 - val_loss: 0.3649 - val_accuracy: 0.8766\n",
            "Epoch 9/10\n",
            "70/70 [==============================] - 1s 11ms/step - loss: 0.3426 - accuracy: 0.8893 - val_loss: 0.3658 - val_accuracy: 0.8770\n",
            "Epoch 10/10\n",
            "70/70 [==============================] - 1s 10ms/step - loss: 0.3435 - accuracy: 0.8894 - val_loss: 0.3668 - val_accuracy: 0.8763\n"
          ],
          "name": "stdout"
        }
      ]
    },
    {
      "cell_type": "code",
      "metadata": {
        "colab": {
          "base_uri": "https://localhost:8080/"
        },
        "id": "L_KvG2YiAsjX",
        "outputId": "8148f477-53b0-4f0c-a201-f67a7bcfa432"
      },
      "source": [
        "#training accuracy \n",
        "model.evaluate(x_train, y_train)"
      ],
      "execution_count": 119,
      "outputs": [
        {
          "output_type": "stream",
          "text": [
            "140/140 [==============================] - 0s 3ms/step - loss: 0.3351 - accuracy: 0.8896\n"
          ],
          "name": "stdout"
        },
        {
          "output_type": "execute_result",
          "data": {
            "text/plain": [
              "[0.33506882190704346, 0.889621913433075]"
            ]
          },
          "metadata": {
            "tags": []
          },
          "execution_count": 119
        }
      ]
    },
    {
      "cell_type": "code",
      "metadata": {
        "colab": {
          "base_uri": "https://localhost:8080/"
        },
        "id": "e1YNoSvjGIG5",
        "outputId": "96ab9202-f21b-49ae-f3db-2b1e3407c2fe"
      },
      "source": [
        "\n",
        "#testing accuracy \n",
        "model.evaluate(x_test, y_test)"
      ],
      "execution_count": 120,
      "outputs": [
        {
          "output_type": "stream",
          "text": [
            "35/35 [==============================] - 0s 3ms/step - loss: 0.3668 - accuracy: 0.8763\n"
          ],
          "name": "stdout"
        },
        {
          "output_type": "execute_result",
          "data": {
            "text/plain": [
              "[0.36684170365333557, 0.8762739896774292]"
            ]
          },
          "metadata": {
            "tags": []
          },
          "execution_count": 120
        }
      ]
    },
    {
      "cell_type": "code",
      "metadata": {
        "colab": {
          "base_uri": "https://localhost:8080/",
          "height": 281
        },
        "id": "vpyq3abhGJad",
        "outputId": "db4f5194-fab8-49ff-be60-5d5c14d23184"
      },
      "source": [
        "history = pd.DataFrame.from_dict(results.history)\n",
        "\n",
        "acc = history['accuracy']\n",
        "val_acc = history['val_accuracy']\n",
        "epochs = range(len(acc))\n",
        "plt.plot(epochs, acc, '-', color='orange', label='training acc')\n",
        "plt.plot(epochs, val_acc, '-', color='blue', label='validation acc')\n",
        "plt.title('Recurrent Neural Network: Training Accuracy')\n",
        "plt.legend()\n",
        "plt.show()"
      ],
      "execution_count": 121,
      "outputs": [
        {
          "output_type": "display_data",
          "data": {
            "image/png": "[encoded data removed]",
            "text/plain": [
              "<Figure size 432x288 with 1 Axes>"
            ]
          },
          "metadata": {
            "tags": [],
            "needs_background": "light"
          }
        }
      ]
    },
    {
      "cell_type": "markdown",
      "metadata": {
        "id": "em-OP6S1GTpX"
      },
      "source": [
        "#### 3.3\n",
        "\n",
        "Be sure to directly compare your two methods with an ROC curve or similar validation method. Don’t forget to create a train-test split."
      ]
    },
    {
      "cell_type": "code",
      "metadata": {
        "colab": {
          "base_uri": "https://localhost:8080/",
          "height": 295
        },
        "id": "ES98hEGlGLJ5",
        "outputId": "53f541bf-2ee0-4826-d9d1-168b7d039c2d"
      },
      "source": [
        "from sklearn.metrics import roc_curve, auc\n",
        "\n",
        "# ROC on testing data\n",
        "rnn = model_rnn.predict(x_test).ravel()\n",
        "fpr_keras, tpr_keras, thresholds_keras = roc_curve(y_test, rnn)\n",
        "auc_keras = auc(fpr_keras, tpr_keras)\n",
        "\n",
        "cnn = model_cnn.predict(x_test).ravel()\n",
        "cnn_fpr_keras, cnn_tpr_keras, cnn_thresholds_keras = roc_curve(y_test, cnn)\n",
        "cnn_auc_keras = auc(cnn_fpr_keras, cnn_tpr_keras)\n",
        "\n",
        "plt.figure(1)\n",
        "plt.plot([0, 1], [0, 1], 'k--')\n",
        "plt.plot(fpr_keras, tpr_keras, label='SimpleRNN (area = {:.3f})'.format(auc_keras))\n",
        "plt.plot(cnn_fpr_keras, cnn_tpr_keras, label='CNN (area = {:.3f})'.format(cnn_auc_keras))\n",
        "plt.xlabel('False positive rate')\n",
        "plt.ylabel('True positive rate')\n",
        "plt.title('ROC curve')\n",
        "plt.legend(loc='best')\n",
        "plt.show()"
      ],
      "execution_count": 124,
      "outputs": [
        {
          "output_type": "display_data",
          "data": {
            "image/png": "[encoded data removed]",
            "text/plain": [
              "<Figure size 432x288 with 1 Axes>"
            ]
          },
          "metadata": {
            "tags": [],
            "needs_background": "light"
          }
        }
      ]
    },
    {
      "cell_type": "code",
      "metadata": {
        "id": "pslrKzb0G4ni"
      },
      "source": [
        ""
      ],
      "execution_count": null,
      "outputs": []
    }
  ]
}